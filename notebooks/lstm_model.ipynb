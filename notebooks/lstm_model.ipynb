{
 "cells": [
  {
   "cell_type": "markdown",
   "metadata": {},
   "source": [
    "# Building Model with Deep Learning (LSTM)\n",
    "\n",
    "   - Building a Long Short-Term Memory (LSTM) model for sales prediction, particularly focusing on time-series, data preprocessing and structuring\n"
   ]
  },
  {
   "cell_type": "markdown",
   "metadata": {},
   "source": [
    "#### Directory setup\n",
    "\n",
    "Allowing for imports from modules located in the parent directory \n",
    "\n",
    "by modifies the Python path to include the parent directory of the current working directory, "
   ]
  },
  {
   "cell_type": "code",
   "execution_count": 1,
   "metadata": {},
   "outputs": [],
   "source": [
    "import os\n",
    "import sys\n",
    "\n",
    "sys.path.insert(0,os.path.dirname(os.getcwd()))"
   ]
  },
  {
   "cell_type": "code",
   "execution_count": 71,
   "metadata": {},
   "outputs": [],
   "source": [
    "from sklearn.metrics import mean_absolute_error, mean_squared_error,r2_score\n",
    "import numpy as np\n",
    "from tensorflow.keras.models import load_model\n",
    "from sklearn.preprocessing import MinMaxScaler\n",
    "import matplotlib.pyplot as plt"
   ]
  },
  {
   "cell_type": "markdown",
   "metadata": {},
   "source": [
    "#####  Importing the required modules and packages "
   ]
  },
  {
   "cell_type": "code",
   "execution_count": 2,
   "metadata": {},
   "outputs": [],
   "source": [
    "import pandas as pd\n",
    "from scripts.data_accessing import DataAccessor\n",
    "from scripts.data_preprocessing import DataProcess\n",
    "from scripts.sklean_model import Model\n",
    "from scripts.LSTM_time_series import LSTMModel"
   ]
  },
  {
   "cell_type": "code",
   "execution_count": 3,
   "metadata": {},
   "outputs": [],
   "source": [
    "# Path to the data sets\n",
    "\n",
    "data_path_sample=\"../Data/sample_submission.csv\"\n",
    "data_path_store=\"../Data/store.csv\"\n",
    "data_path_train=\"../Data/train.csv\"\n",
    "data_path_test=\"../Data/test.csv\""
   ]
  },
  {
   "cell_type": "markdown",
   "metadata": {},
   "source": [
    "##### Reading data"
   ]
  },
  {
   "cell_type": "code",
   "execution_count": 4,
   "metadata": {},
   "outputs": [],
   "source": [
    "sampleData=DataAccessor(data_path_sample)\n",
    "storeData=DataAccessor(data_path_store)\n",
    "trainData=DataAccessor(data_path_train)\n",
    "testData=DataAccessor(data_path_test)"
   ]
  },
  {
   "cell_type": "code",
   "execution_count": 5,
   "metadata": {},
   "outputs": [
    {
     "name": "stderr",
     "output_type": "stream",
     "text": [
      "INFO:root:Dataset loaded successfully\n",
      "INFO:root:Dataset loaded successfully\n",
      "d:\\10Academy\\Week4\\scripts\\data_accessing.py:34: DtypeWarning: Columns (7) have mixed types. Specify dtype option on import or set low_memory=False.\n",
      "  df = pd.read_csv(self.data_path)\n",
      "INFO:root:Dataset loaded successfully\n",
      "INFO:root:Dataset loaded successfully\n"
     ]
    }
   ],
   "source": [
    "# Accessing Data\n",
    "\n",
    "df_sample=sampleData.read_data()\n",
    "df_store=storeData.read_data()\n",
    "df_train=trainData.read_data()\n",
    "df_test=testData.read_data()"
   ]
  },
  {
   "cell_type": "markdown",
   "metadata": {},
   "source": [
    "#### Data Preprocessing and Structuring Implementation\n",
    " - preprocessing for the train and test datasets."
   ]
  },
  {
   "cell_type": "code",
   "execution_count": 6,
   "metadata": {},
   "outputs": [],
   "source": [
    "processing=DataProcess()\n",
    "\n",
    "store,train,test=processing.merging_store(df_store,df_train,df_test)"
   ]
  },
  {
   "cell_type": "code",
   "execution_count": 7,
   "metadata": {},
   "outputs": [],
   "source": [
    "train,test, preprocessor=processing.feature_engineering(train, test)\n",
    "df=train"
   ]
  },
  {
   "cell_type": "code",
   "execution_count": 10,
   "metadata": {},
   "outputs": [],
   "source": [
    "lstModel=LSTMModel()"
   ]
  },
  {
   "cell_type": "code",
   "execution_count": 11,
   "metadata": {},
   "outputs": [],
   "source": [
    "df=lstModel.date_conversion(df)"
   ]
  },
  {
   "cell_type": "code",
   "execution_count": 12,
   "metadata": {},
   "outputs": [],
   "source": [
    "df=lstModel.managinig_data_types(df)"
   ]
  },
  {
   "cell_type": "code",
   "execution_count": 15,
   "metadata": {},
   "outputs": [],
   "source": [
    "sscaler,scaled_target,unscaled_target,data=lstModel.scale_data(df)"
   ]
  },
  {
   "cell_type": "code",
   "execution_count": 16,
   "metadata": {},
   "outputs": [
    {
     "data": {
      "text/html": [
       "<div>\n",
       "<style scoped>\n",
       "    .dataframe tbody tr th:only-of-type {\n",
       "        vertical-align: middle;\n",
       "    }\n",
       "\n",
       "    .dataframe tbody tr th {\n",
       "        vertical-align: top;\n",
       "    }\n",
       "\n",
       "    .dataframe thead th {\n",
       "        text-align: right;\n",
       "    }\n",
       "</style>\n",
       "<table border=\"1\" class=\"dataframe\">\n",
       "  <thead>\n",
       "    <tr style=\"text-align: right;\">\n",
       "      <th></th>\n",
       "      <th>Store</th>\n",
       "      <th>DayOfWeek</th>\n",
       "      <th>Date</th>\n",
       "      <th>Sales</th>\n",
       "      <th>Customers</th>\n",
       "      <th>Open</th>\n",
       "      <th>Promo</th>\n",
       "      <th>SchoolHoliday</th>\n",
       "      <th>CompetitionDistance</th>\n",
       "      <th>CompetitionOpenSinceMonth</th>\n",
       "      <th>...</th>\n",
       "      <th>Assortment_b</th>\n",
       "      <th>Assortment_c</th>\n",
       "      <th>StateHoliday_0</th>\n",
       "      <th>StateHoliday_a</th>\n",
       "      <th>StateHoliday_b</th>\n",
       "      <th>StateHoliday_c</th>\n",
       "      <th>PromoInterval_Feb,May,Aug,Nov</th>\n",
       "      <th>PromoInterval_Jan,Apr,Jul,Oct</th>\n",
       "      <th>PromoInterval_Mar,Jun,Sept,Dec</th>\n",
       "      <th>PromoInterval_None</th>\n",
       "    </tr>\n",
       "  </thead>\n",
       "  <tbody>\n",
       "    <tr>\n",
       "      <th>1017204</th>\n",
       "      <td>746.0</td>\n",
       "      <td>5.0</td>\n",
       "      <td>2015-07-31</td>\n",
       "      <td>9082.0</td>\n",
       "      <td>0.086356</td>\n",
       "      <td>1.0</td>\n",
       "      <td>1.0</td>\n",
       "      <td>1.0</td>\n",
       "      <td>0.056830</td>\n",
       "      <td>2.0</td>\n",
       "      <td>...</td>\n",
       "      <td>0</td>\n",
       "      <td>1</td>\n",
       "      <td>1</td>\n",
       "      <td>0</td>\n",
       "      <td>0</td>\n",
       "      <td>0</td>\n",
       "      <td>0</td>\n",
       "      <td>0</td>\n",
       "      <td>1</td>\n",
       "      <td>0</td>\n",
       "    </tr>\n",
       "    <tr>\n",
       "      <th>1017205</th>\n",
       "      <td>747.0</td>\n",
       "      <td>5.0</td>\n",
       "      <td>2015-07-31</td>\n",
       "      <td>10708.0</td>\n",
       "      <td>0.111803</td>\n",
       "      <td>1.0</td>\n",
       "      <td>1.0</td>\n",
       "      <td>1.0</td>\n",
       "      <td>0.602848</td>\n",
       "      <td>8.0</td>\n",
       "      <td>...</td>\n",
       "      <td>0</td>\n",
       "      <td>1</td>\n",
       "      <td>1</td>\n",
       "      <td>0</td>\n",
       "      <td>0</td>\n",
       "      <td>0</td>\n",
       "      <td>0</td>\n",
       "      <td>0</td>\n",
       "      <td>0</td>\n",
       "      <td>1</td>\n",
       "    </tr>\n",
       "    <tr>\n",
       "      <th>1017206</th>\n",
       "      <td>748.0</td>\n",
       "      <td>5.0</td>\n",
       "      <td>2015-07-31</td>\n",
       "      <td>7481.0</td>\n",
       "      <td>0.078235</td>\n",
       "      <td>1.0</td>\n",
       "      <td>1.0</td>\n",
       "      <td>1.0</td>\n",
       "      <td>0.031118</td>\n",
       "      <td>3.0</td>\n",
       "      <td>...</td>\n",
       "      <td>0</td>\n",
       "      <td>0</td>\n",
       "      <td>1</td>\n",
       "      <td>0</td>\n",
       "      <td>0</td>\n",
       "      <td>0</td>\n",
       "      <td>0</td>\n",
       "      <td>1</td>\n",
       "      <td>0</td>\n",
       "      <td>0</td>\n",
       "    </tr>\n",
       "    <tr>\n",
       "      <th>1017207</th>\n",
       "      <td>742.0</td>\n",
       "      <td>5.0</td>\n",
       "      <td>2015-07-31</td>\n",
       "      <td>10460.0</td>\n",
       "      <td>0.137520</td>\n",
       "      <td>1.0</td>\n",
       "      <td>1.0</td>\n",
       "      <td>1.0</td>\n",
       "      <td>0.057489</td>\n",
       "      <td>0.0</td>\n",
       "      <td>...</td>\n",
       "      <td>0</td>\n",
       "      <td>1</td>\n",
       "      <td>1</td>\n",
       "      <td>0</td>\n",
       "      <td>0</td>\n",
       "      <td>0</td>\n",
       "      <td>0</td>\n",
       "      <td>0</td>\n",
       "      <td>0</td>\n",
       "      <td>1</td>\n",
       "    </tr>\n",
       "    <tr>\n",
       "      <th>1017208</th>\n",
       "      <td>1.0</td>\n",
       "      <td>5.0</td>\n",
       "      <td>2015-07-31</td>\n",
       "      <td>5263.0</td>\n",
       "      <td>0.075122</td>\n",
       "      <td>1.0</td>\n",
       "      <td>1.0</td>\n",
       "      <td>1.0</td>\n",
       "      <td>0.016482</td>\n",
       "      <td>9.0</td>\n",
       "      <td>...</td>\n",
       "      <td>0</td>\n",
       "      <td>0</td>\n",
       "      <td>1</td>\n",
       "      <td>0</td>\n",
       "      <td>0</td>\n",
       "      <td>0</td>\n",
       "      <td>0</td>\n",
       "      <td>0</td>\n",
       "      <td>0</td>\n",
       "      <td>1</td>\n",
       "    </tr>\n",
       "  </tbody>\n",
       "</table>\n",
       "<p>5 rows × 36 columns</p>\n",
       "</div>"
      ],
      "text/plain": [
       "         Store  DayOfWeek       Date    Sales  Customers  Open  Promo  \\\n",
       "1017204  746.0        5.0 2015-07-31   9082.0   0.086356   1.0    1.0   \n",
       "1017205  747.0        5.0 2015-07-31  10708.0   0.111803   1.0    1.0   \n",
       "1017206  748.0        5.0 2015-07-31   7481.0   0.078235   1.0    1.0   \n",
       "1017207  742.0        5.0 2015-07-31  10460.0   0.137520   1.0    1.0   \n",
       "1017208    1.0        5.0 2015-07-31   5263.0   0.075122   1.0    1.0   \n",
       "\n",
       "         SchoolHoliday  CompetitionDistance  CompetitionOpenSinceMonth  ...  \\\n",
       "1017204            1.0             0.056830                        2.0  ...   \n",
       "1017205            1.0             0.602848                        8.0  ...   \n",
       "1017206            1.0             0.031118                        3.0  ...   \n",
       "1017207            1.0             0.057489                        0.0  ...   \n",
       "1017208            1.0             0.016482                        9.0  ...   \n",
       "\n",
       "         Assortment_b  Assortment_c  StateHoliday_0  StateHoliday_a  \\\n",
       "1017204             0             1               1               0   \n",
       "1017205             0             1               1               0   \n",
       "1017206             0             0               1               0   \n",
       "1017207             0             1               1               0   \n",
       "1017208             0             0               1               0   \n",
       "\n",
       "         StateHoliday_b  StateHoliday_c  PromoInterval_Feb,May,Aug,Nov  \\\n",
       "1017204               0               0                              0   \n",
       "1017205               0               0                              0   \n",
       "1017206               0               0                              0   \n",
       "1017207               0               0                              0   \n",
       "1017208               0               0                              0   \n",
       "\n",
       "         PromoInterval_Jan,Apr,Jul,Oct  PromoInterval_Mar,Jun,Sept,Dec  \\\n",
       "1017204                              0                               1   \n",
       "1017205                              0                               0   \n",
       "1017206                              1                               0   \n",
       "1017207                              0                               0   \n",
       "1017208                              0                               0   \n",
       "\n",
       "         PromoInterval_None  \n",
       "1017204                   0  \n",
       "1017205                   1  \n",
       "1017206                   0  \n",
       "1017207                   1  \n",
       "1017208                   1  \n",
       "\n",
       "[5 rows x 36 columns]"
      ]
     },
     "execution_count": 16,
     "metadata": {},
     "output_type": "execute_result"
    }
   ],
   "source": [
    "data.tail()"
   ]
  },
  {
   "cell_type": "code",
   "execution_count": 19,
   "metadata": {},
   "outputs": [
    {
     "data": {
      "text/plain": [
       "Store                             0\n",
       "DayOfWeek                         0\n",
       "Date                              0\n",
       "Sales                             0\n",
       "Customers                         0\n",
       "Open                              0\n",
       "Promo                             0\n",
       "SchoolHoliday                     0\n",
       "CompetitionDistance               0\n",
       "CompetitionOpenSinceMonth         0\n",
       "CompetitionOpenSinceYear          0\n",
       "Promo2                            0\n",
       "Promo2SinceWeek                   0\n",
       "Promo2SinceYear                   0\n",
       "Month                             0\n",
       "Year                              0\n",
       "Day                               0\n",
       "WeekOfYear                        0\n",
       "is_weekend                        0\n",
       "CompetitionOpenTime               0\n",
       "Promo2OpenTime                    0\n",
       "StoreType_a                       0\n",
       "StoreType_b                       0\n",
       "StoreType_c                       0\n",
       "StoreType_d                       0\n",
       "Assortment_a                      0\n",
       "Assortment_b                      0\n",
       "Assortment_c                      0\n",
       "StateHoliday_0                    0\n",
       "StateHoliday_a                    0\n",
       "StateHoliday_b                    0\n",
       "StateHoliday_c                    0\n",
       "PromoInterval_Feb,May,Aug,Nov     0\n",
       "PromoInterval_Jan,Apr,Jul,Oct     0\n",
       "PromoInterval_Mar,Jun,Sept,Dec    0\n",
       "PromoInterval_None                0\n",
       "dtype: int64"
      ]
     },
     "execution_count": 19,
     "metadata": {},
     "output_type": "execute_result"
    }
   ],
   "source": [
    "data.isnull().sum()"
   ]
  },
  {
   "cell_type": "code",
   "execution_count": 24,
   "metadata": {},
   "outputs": [],
   "source": [
    "n_lag = 7  # Number of past days to use as input"
   ]
  },
  {
   "cell_type": "code",
   "execution_count": 25,
   "metadata": {},
   "outputs": [],
   "source": [
    "X,y=lstModel.create_sequences(scaled_target,n_lag)"
   ]
  },
  {
   "cell_type": "code",
   "execution_count": 30,
   "metadata": {},
   "outputs": [
    {
     "name": "stdout",
     "output_type": "stream",
     "text": [
      "Training data shape: (813761, 7, 1) (813761,)\n",
      "Testing data shape: (203441, 7, 1) (203441,)\n"
     ]
    }
   ],
   "source": [
    "X_train, y_train,X_test,y_test=lstModel.splite_data(X,y)"
   ]
  },
  {
   "cell_type": "code",
   "execution_count": 31,
   "metadata": {},
   "outputs": [
    {
     "data": {
      "text/plain": [
       "(813761, 7, 1)"
      ]
     },
     "execution_count": 31,
     "metadata": {},
     "output_type": "execute_result"
    }
   ],
   "source": [
    "X_train.shape"
   ]
  },
  {
   "cell_type": "code",
   "execution_count": 33,
   "metadata": {},
   "outputs": [
    {
     "name": "stderr",
     "output_type": "stream",
     "text": [
      "d:\\10Academy\\Week4\\week4\\Lib\\site-packages\\keras\\src\\layers\\rnn\\rnn.py:204: UserWarning: Do not pass an `input_shape`/`input_dim` argument to a layer. When using Sequential models, prefer using an `Input(shape)` object as the first layer in the model instead.\n",
      "  super().__init__(**kwargs)\n"
     ]
    }
   ],
   "source": [
    "n_feature=1 # since only to predict sales\n",
    "model=lstModel.build_lstm_model(n_lag,1)"
   ]
  },
  {
   "cell_type": "code",
   "execution_count": 34,
   "metadata": {},
   "outputs": [
    {
     "name": "stdout",
     "output_type": "stream",
     "text": [
      "Epoch 1/20\n",
      "\u001b[1m25431/25431\u001b[0m \u001b[32m━━━━━━━━━━━━━━━━━━━━\u001b[0m\u001b[37m\u001b[0m \u001b[1m223s\u001b[0m 9ms/step - loss: 0.0044 - val_loss: 0.0042\n",
      "Epoch 2/20\n",
      "\u001b[1m25431/25431\u001b[0m \u001b[32m━━━━━━━━━━━━━━━━━━━━\u001b[0m\u001b[37m\u001b[0m \u001b[1m291s\u001b[0m 11ms/step - loss: 0.0042 - val_loss: 0.0042\n",
      "Epoch 3/20\n",
      "\u001b[1m25431/25431\u001b[0m \u001b[32m━━━━━━━━━━━━━━━━━━━━\u001b[0m\u001b[37m\u001b[0m \u001b[1m206s\u001b[0m 8ms/step - loss: 0.0041 - val_loss: 0.0041\n",
      "Epoch 4/20\n",
      "\u001b[1m25431/25431\u001b[0m \u001b[32m━━━━━━━━━━━━━━━━━━━━\u001b[0m\u001b[37m\u001b[0m \u001b[1m83s\u001b[0m 3ms/step - loss: 0.0041 - val_loss: 0.0041\n",
      "Epoch 5/20\n",
      "\u001b[1m25431/25431\u001b[0m \u001b[32m━━━━━━━━━━━━━━━━━━━━\u001b[0m\u001b[37m\u001b[0m \u001b[1m127s\u001b[0m 5ms/step - loss: 0.0041 - val_loss: 0.0040\n",
      "Epoch 6/20\n",
      "\u001b[1m25431/25431\u001b[0m \u001b[32m━━━━━━━━━━━━━━━━━━━━\u001b[0m\u001b[37m\u001b[0m \u001b[1m101s\u001b[0m 4ms/step - loss: 0.0040 - val_loss: 0.0040\n",
      "Epoch 7/20\n",
      "\u001b[1m25431/25431\u001b[0m \u001b[32m━━━━━━━━━━━━━━━━━━━━\u001b[0m\u001b[37m\u001b[0m \u001b[1m92s\u001b[0m 4ms/step - loss: 0.0039 - val_loss: 0.0039\n",
      "Epoch 8/20\n",
      "\u001b[1m25431/25431\u001b[0m \u001b[32m━━━━━━━━━━━━━━━━━━━━\u001b[0m\u001b[37m\u001b[0m \u001b[1m122s\u001b[0m 5ms/step - loss: 0.0039 - val_loss: 0.0039\n",
      "Epoch 9/20\n",
      "\u001b[1m25431/25431\u001b[0m \u001b[32m━━━━━━━━━━━━━━━━━━━━\u001b[0m\u001b[37m\u001b[0m \u001b[1m131s\u001b[0m 5ms/step - loss: 0.0038 - val_loss: 0.0038\n",
      "Epoch 10/20\n",
      "\u001b[1m25431/25431\u001b[0m \u001b[32m━━━━━━━━━━━━━━━━━━━━\u001b[0m\u001b[37m\u001b[0m \u001b[1m91s\u001b[0m 4ms/step - loss: 0.0037 - val_loss: 0.0038\n",
      "Epoch 11/20\n",
      "\u001b[1m25431/25431\u001b[0m \u001b[32m━━━━━━━━━━━━━━━━━━━━\u001b[0m\u001b[37m\u001b[0m \u001b[1m92s\u001b[0m 4ms/step - loss: 0.0037 - val_loss: 0.0038\n",
      "Epoch 12/20\n",
      "\u001b[1m25431/25431\u001b[0m \u001b[32m━━━━━━━━━━━━━━━━━━━━\u001b[0m\u001b[37m\u001b[0m \u001b[1m167s\u001b[0m 7ms/step - loss: 0.0036 - val_loss: 0.0037\n",
      "Epoch 13/20\n",
      "\u001b[1m25431/25431\u001b[0m \u001b[32m━━━━━━━━━━━━━━━━━━━━\u001b[0m\u001b[37m\u001b[0m \u001b[1m133s\u001b[0m 5ms/step - loss: 0.0036 - val_loss: 0.0037\n",
      "Epoch 14/20\n",
      "\u001b[1m25431/25431\u001b[0m \u001b[32m━━━━━━━━━━━━━━━━━━━━\u001b[0m\u001b[37m\u001b[0m \u001b[1m97s\u001b[0m 4ms/step - loss: 0.0036 - val_loss: 0.0037\n",
      "Epoch 15/20\n",
      "\u001b[1m25431/25431\u001b[0m \u001b[32m━━━━━━━━━━━━━━━━━━━━\u001b[0m\u001b[37m\u001b[0m \u001b[1m117s\u001b[0m 5ms/step - loss: 0.0036 - val_loss: 0.0037\n",
      "Epoch 16/20\n",
      "\u001b[1m25431/25431\u001b[0m \u001b[32m━━━━━━━━━━━━━━━━━━━━\u001b[0m\u001b[37m\u001b[0m \u001b[1m107s\u001b[0m 4ms/step - loss: 0.0035 - val_loss: 0.0037\n",
      "Epoch 17/20\n",
      "\u001b[1m25431/25431\u001b[0m \u001b[32m━━━━━━━━━━━━━━━━━━━━\u001b[0m\u001b[37m\u001b[0m \u001b[1m88s\u001b[0m 3ms/step - loss: 0.0035 - val_loss: 0.0037\n",
      "Epoch 18/20\n",
      "\u001b[1m25431/25431\u001b[0m \u001b[32m━━━━━━━━━━━━━━━━━━━━\u001b[0m\u001b[37m\u001b[0m \u001b[1m114s\u001b[0m 4ms/step - loss: 0.0035 - val_loss: 0.0037\n",
      "Epoch 19/20\n",
      "\u001b[1m25431/25431\u001b[0m \u001b[32m━━━━━━━━━━━━━━━━━━━━\u001b[0m\u001b[37m\u001b[0m \u001b[1m93s\u001b[0m 4ms/step - loss: 0.0035 - val_loss: 0.0037\n",
      "Epoch 20/20\n",
      "\u001b[1m25431/25431\u001b[0m \u001b[32m━━━━━━━━━━━━━━━━━━━━\u001b[0m\u001b[37m\u001b[0m \u001b[1m121s\u001b[0m 5ms/step - loss: 0.0035 - val_loss: 0.0037\n"
     ]
    }
   ],
   "source": [
    "# Train the model\n",
    "history = model.fit(X_train, y_train, epochs=20, batch_size=32, validation_data=(X_test, y_test))"
   ]
  },
  {
   "cell_type": "markdown",
   "metadata": {},
   "source": [
    "##### Saving and Loading LSTM Model in TensorFlow/Keras\n",
    "\n",
    "In TensorFlow/Keras, you can easily save and load your LSTM model using `model.save()` and `load_model()`.\n",
    "\n",
    "#### Saving the Model\n",
    "After training the model, both the architecture and the weights can be saved:\n",
    "```python\n",
    "# Save the entire model\n",
    "model.save('lstm_model.h5')"
   ]
  },
  {
   "cell_type": "code",
   "execution_count": 51,
   "metadata": {},
   "outputs": [
    {
     "name": "stderr",
     "output_type": "stream",
     "text": [
      "WARNING:absl:You are saving your model as an HDF5 file via `model.save()` or `keras.saving.save_model(model)`. This file format is considered legacy. We recommend using instead the native Keras format, e.g. `model.save('my_model.keras')` or `keras.saving.save_model(model, 'my_model.keras')`. \n"
     ]
    }
   ],
   "source": [
    "# Save the entire model after training\n",
    "model.save('../result/lstm_model.h5')"
   ]
  },
  {
   "cell_type": "markdown",
   "metadata": {},
   "source": [
    "##### Saving the Model in TensorFlow/Keras store the following components\n",
    "\n",
    "- The **model architecture**: This includes the structure of the neural network.\n",
    "- The **weights** of the model: These are the learned parameters from training.\n",
    "- The **optimizer’s state**: This includes information like learning rate and momentum.\n",
    "- The **training configuration**: It stores any specific configurations used during training (loss function, metrics, etc.).\n"
   ]
  },
  {
   "cell_type": "markdown",
   "metadata": {},
   "source": [
    "##### Loading the Model"
   ]
  },
  {
   "cell_type": "code",
   "execution_count": 36,
   "metadata": {},
   "outputs": [
    {
     "name": "stderr",
     "output_type": "stream",
     "text": [
      "WARNING:absl:Compiled the loaded model, but the compiled metrics have yet to be built. `model.compile_metrics` will be empty until you train or evaluate the model.\n"
     ]
    },
    {
     "name": "stdout",
     "output_type": "stream",
     "text": [
      "\u001b[1m6358/6358\u001b[0m \u001b[32m━━━━━━━━━━━━━━━━━━━━\u001b[0m\u001b[37m\u001b[0m \u001b[1m25s\u001b[0m 4ms/step\n"
     ]
    }
   ],
   "source": [
    "\n",
    "# Load the saved model\n",
    "saved_model = load_model('../result/lstm_model.h5')\n",
    "\n",
    "# Now you can use the model to make predictions or continue training\n",
    "y_pred_sMode = saved_model.predict(X_test)\n"
   ]
  },
  {
   "cell_type": "code",
   "execution_count": 37,
   "metadata": {},
   "outputs": [
    {
     "name": "stdout",
     "output_type": "stream",
     "text": [
      "\u001b[1m6358/6358\u001b[0m \u001b[32m━━━━━━━━━━━━━━━━━━━━\u001b[0m\u001b[37m\u001b[0m \u001b[1m27s\u001b[0m 4ms/step - loss: 0.0036\n",
      "Test Loss: 0.003656798740848899\n"
     ]
    }
   ],
   "source": [
    "# Evaluate the model\n",
    "test_loss = model.evaluate(X_test, y_test)\n",
    "print(f\"Test Loss: {test_loss}\")\n"
   ]
  },
  {
   "cell_type": "code",
   "execution_count": 38,
   "metadata": {},
   "outputs": [
    {
     "name": "stdout",
     "output_type": "stream",
     "text": [
      "\u001b[1m6358/6358\u001b[0m \u001b[32m━━━━━━━━━━━━━━━━━━━━\u001b[0m\u001b[37m\u001b[0m \u001b[1m9s\u001b[0m 1ms/step\n"
     ]
    }
   ],
   "source": [
    "# Predict next sales\n",
    "y_pred = model.predict(X_test)"
   ]
  },
  {
   "cell_type": "code",
   "execution_count": 77,
   "metadata": {},
   "outputs": [
    {
     "data": {
      "text/plain": [
       "array([[0.09345142],\n",
       "       [0.20964598],\n",
       "       [0.22131838],\n",
       "       [0.1580708 ],\n",
       "       [0.21806936],\n",
       "       [0.22914009],\n",
       "       [0.3258646 ]])"
      ]
     },
     "execution_count": 77,
     "metadata": {},
     "output_type": "execute_result"
    }
   ],
   "source": [
    "X_test[2]"
   ]
  },
  {
   "cell_type": "code",
   "execution_count": 56,
   "metadata": {},
   "outputs": [],
   "source": [
    "y_pred_reverse_scaled=sscaler.inverse_transform(y_pred)"
   ]
  },
  {
   "cell_type": "code",
   "execution_count": 60,
   "metadata": {},
   "outputs": [],
   "source": [
    "y_test=[[i] for i in y_test]"
   ]
  },
  {
   "cell_type": "code",
   "execution_count": 59,
   "metadata": {},
   "outputs": [
    {
     "data": {
      "text/plain": [
       "array([[0.20690103],\n",
       "       [0.25554755],\n",
       "       [0.13455527],\n",
       "       ...,\n",
       "       [0.266585  ],\n",
       "       [0.20081826],\n",
       "       [0.22741936]], dtype=float32)"
      ]
     },
     "execution_count": 59,
     "metadata": {},
     "output_type": "execute_result"
    }
   ],
   "source": [
    "y_pred"
   ]
  },
  {
   "cell_type": "code",
   "execution_count": 62,
   "metadata": {},
   "outputs": [],
   "source": [
    "y_test_reverse_scaled=sscaler.inverse_transform(y_test)"
   ]
  },
  {
   "cell_type": "code",
   "execution_count": 70,
   "metadata": {},
   "outputs": [
    {
     "name": "stdout",
     "output_type": "stream",
     "text": [
      "MSE: 6313418.369248233\n",
      "RMSE: 2512.6516609447144\n",
      "MAE: 1629.8827802615144\n",
      "R-squared: 0.5773083539165851\n"
     ]
    }
   ],
   "source": [
    "y_true_rescaled=y_test_reverse_scaled\n",
    "y_pred_rescaled=y_pred_reverse_scaled\n",
    "mse = mean_squared_error(y_test, y_pred)\n",
    "rmse = np.sqrt(mse)\n",
    "mae = mean_absolute_error(y_test, y_pred)\n",
    "r2 = r2_score(y_test, y_pred)\n",
    "\n",
    "print(f\"MSE: {mse}\")\n",
    "print(f\"RMSE: {rmse}\")\n",
    "print(f\"MAE: {mae}\")\n",
    "print(f\"R-squared: {r2}\")\n"
   ]
  },
  {
   "cell_type": "markdown",
   "metadata": {},
   "source": [
    "##### R-squared Analysis\n",
    "\n",
    "- **R-squared = 0.577**: The model explains 58% of the data variance, a solid starting point.\n",
    "- **Improvement Potential**: Further enhancements can be achieved via model fine-tuning, feature engineering, and exploring more advanced architectures.\n"
   ]
  },
  {
   "cell_type": "code",
   "execution_count": 73,
   "metadata": {},
   "outputs": [
    {
     "data": {
      "image/png": "[encoded data removed]",
      "text/plain": [
       "<Figure size 640x480 with 1 Axes>"
      ]
     },
     "metadata": {},
     "output_type": "display_data"
    }
   ],
   "source": [
    "plt.plot(history.history['loss'], label='Train Loss')\n",
    "plt.plot(history.history['val_loss'], label='Validation Loss')\n",
    "plt.legend()\n",
    "plt.show()\n"
   ]
  },
  {
   "cell_type": "markdown",
   "metadata": {},
   "source": [
    "#### Insights from Loss Curves\n",
    "\n",
    "- **Initial Learning (Epochs 0-4)**: Both training and validation losses steadily decrease, indicating effective learning.\n",
    "- **Stabilization (Post-Epoch 4)**: Losses continue to drop at a steady rate, showing good generalization.\n",
    "- **No Overfitting**: Training and validation losses stay close, signaling no overfitting.\n",
    "- **Convergence (Around Epoch 18)**: The model shows diminishing improvements, suggesting it's nearing optimal performance."
   ]
  }
 ],
 "metadata": {
  "kernelspec": {
   "display_name": "week4",
   "language": "python",
   "name": "python3"
  },
  "language_info": {
   "codemirror_mode": {
    "name": "ipython",
    "version": 3
   },
   "file_extension": ".py",
   "mimetype": "text/x-python",
   "name": "python",
   "nbconvert_exporter": "python",
   "pygments_lexer": "ipython3",
   "version": "3.12.3"
  }
 },
 "nbformat": 4,
 "nbformat_minor": 2
}
